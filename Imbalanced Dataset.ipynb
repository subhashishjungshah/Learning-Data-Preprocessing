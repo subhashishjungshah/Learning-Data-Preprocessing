{
 "cells": [
  {
   "cell_type": "code",
   "execution_count": 1,
   "id": "5710d191",
   "metadata": {},
   "outputs": [],
   "source": [
    "# Imbalanced dataset means where there is unequal class distribution"
   ]
  },
  {
   "cell_type": "code",
   "execution_count": 2,
   "id": "cf3df98f",
   "metadata": {},
   "outputs": [],
   "source": [
    "import pandas as pd\n",
    "import numpy as np\n"
   ]
  },
  {
   "cell_type": "code",
   "execution_count": 3,
   "id": "039dad27",
   "metadata": {},
   "outputs": [],
   "source": [
    "creditdf = pd.read_csv(\"credit_data.csv\")"
   ]
  },
  {
   "cell_type": "code",
   "execution_count": 4,
   "id": "2c649e4a",
   "metadata": {},
   "outputs": [
    {
     "data": {
      "text/html": [
       "<div>\n",
       "<style scoped>\n",
       "    .dataframe tbody tr th:only-of-type {\n",
       "        vertical-align: middle;\n",
       "    }\n",
       "\n",
       "    .dataframe tbody tr th {\n",
       "        vertical-align: top;\n",
       "    }\n",
       "\n",
       "    .dataframe thead th {\n",
       "        text-align: right;\n",
       "    }\n",
       "</style>\n",
       "<table border=\"1\" class=\"dataframe\">\n",
       "  <thead>\n",
       "    <tr style=\"text-align: right;\">\n",
       "      <th></th>\n",
       "      <th>Time</th>\n",
       "      <th>V1</th>\n",
       "      <th>V2</th>\n",
       "      <th>V3</th>\n",
       "      <th>V4</th>\n",
       "      <th>V5</th>\n",
       "      <th>V6</th>\n",
       "      <th>V7</th>\n",
       "      <th>V8</th>\n",
       "      <th>V9</th>\n",
       "      <th>...</th>\n",
       "      <th>V21</th>\n",
       "      <th>V22</th>\n",
       "      <th>V23</th>\n",
       "      <th>V24</th>\n",
       "      <th>V25</th>\n",
       "      <th>V26</th>\n",
       "      <th>V27</th>\n",
       "      <th>V28</th>\n",
       "      <th>Amount</th>\n",
       "      <th>Class</th>\n",
       "    </tr>\n",
       "  </thead>\n",
       "  <tbody>\n",
       "    <tr>\n",
       "      <th>0</th>\n",
       "      <td>0.0</td>\n",
       "      <td>-1.359807</td>\n",
       "      <td>-0.072781</td>\n",
       "      <td>2.536347</td>\n",
       "      <td>1.378155</td>\n",
       "      <td>-0.338321</td>\n",
       "      <td>0.462388</td>\n",
       "      <td>0.239599</td>\n",
       "      <td>0.098698</td>\n",
       "      <td>0.363787</td>\n",
       "      <td>...</td>\n",
       "      <td>-0.018307</td>\n",
       "      <td>0.277838</td>\n",
       "      <td>-0.110474</td>\n",
       "      <td>0.066928</td>\n",
       "      <td>0.128539</td>\n",
       "      <td>-0.189115</td>\n",
       "      <td>0.133558</td>\n",
       "      <td>-0.021053</td>\n",
       "      <td>149.62</td>\n",
       "      <td>0</td>\n",
       "    </tr>\n",
       "    <tr>\n",
       "      <th>1</th>\n",
       "      <td>0.0</td>\n",
       "      <td>1.191857</td>\n",
       "      <td>0.266151</td>\n",
       "      <td>0.166480</td>\n",
       "      <td>0.448154</td>\n",
       "      <td>0.060018</td>\n",
       "      <td>-0.082361</td>\n",
       "      <td>-0.078803</td>\n",
       "      <td>0.085102</td>\n",
       "      <td>-0.255425</td>\n",
       "      <td>...</td>\n",
       "      <td>-0.225775</td>\n",
       "      <td>-0.638672</td>\n",
       "      <td>0.101288</td>\n",
       "      <td>-0.339846</td>\n",
       "      <td>0.167170</td>\n",
       "      <td>0.125895</td>\n",
       "      <td>-0.008983</td>\n",
       "      <td>0.014724</td>\n",
       "      <td>2.69</td>\n",
       "      <td>0</td>\n",
       "    </tr>\n",
       "    <tr>\n",
       "      <th>2</th>\n",
       "      <td>1.0</td>\n",
       "      <td>-1.358354</td>\n",
       "      <td>-1.340163</td>\n",
       "      <td>1.773209</td>\n",
       "      <td>0.379780</td>\n",
       "      <td>-0.503198</td>\n",
       "      <td>1.800499</td>\n",
       "      <td>0.791461</td>\n",
       "      <td>0.247676</td>\n",
       "      <td>-1.514654</td>\n",
       "      <td>...</td>\n",
       "      <td>0.247998</td>\n",
       "      <td>0.771679</td>\n",
       "      <td>0.909412</td>\n",
       "      <td>-0.689281</td>\n",
       "      <td>-0.327642</td>\n",
       "      <td>-0.139097</td>\n",
       "      <td>-0.055353</td>\n",
       "      <td>-0.059752</td>\n",
       "      <td>378.66</td>\n",
       "      <td>0</td>\n",
       "    </tr>\n",
       "    <tr>\n",
       "      <th>3</th>\n",
       "      <td>1.0</td>\n",
       "      <td>-0.966272</td>\n",
       "      <td>-0.185226</td>\n",
       "      <td>1.792993</td>\n",
       "      <td>-0.863291</td>\n",
       "      <td>-0.010309</td>\n",
       "      <td>1.247203</td>\n",
       "      <td>0.237609</td>\n",
       "      <td>0.377436</td>\n",
       "      <td>-1.387024</td>\n",
       "      <td>...</td>\n",
       "      <td>-0.108300</td>\n",
       "      <td>0.005274</td>\n",
       "      <td>-0.190321</td>\n",
       "      <td>-1.175575</td>\n",
       "      <td>0.647376</td>\n",
       "      <td>-0.221929</td>\n",
       "      <td>0.062723</td>\n",
       "      <td>0.061458</td>\n",
       "      <td>123.50</td>\n",
       "      <td>0</td>\n",
       "    </tr>\n",
       "    <tr>\n",
       "      <th>4</th>\n",
       "      <td>2.0</td>\n",
       "      <td>-1.158233</td>\n",
       "      <td>0.877737</td>\n",
       "      <td>1.548718</td>\n",
       "      <td>0.403034</td>\n",
       "      <td>-0.407193</td>\n",
       "      <td>0.095921</td>\n",
       "      <td>0.592941</td>\n",
       "      <td>-0.270533</td>\n",
       "      <td>0.817739</td>\n",
       "      <td>...</td>\n",
       "      <td>-0.009431</td>\n",
       "      <td>0.798278</td>\n",
       "      <td>-0.137458</td>\n",
       "      <td>0.141267</td>\n",
       "      <td>-0.206010</td>\n",
       "      <td>0.502292</td>\n",
       "      <td>0.219422</td>\n",
       "      <td>0.215153</td>\n",
       "      <td>69.99</td>\n",
       "      <td>0</td>\n",
       "    </tr>\n",
       "  </tbody>\n",
       "</table>\n",
       "<p>5 rows × 31 columns</p>\n",
       "</div>"
      ],
      "text/plain": [
       "   Time        V1        V2        V3        V4        V5        V6        V7  \\\n",
       "0   0.0 -1.359807 -0.072781  2.536347  1.378155 -0.338321  0.462388  0.239599   \n",
       "1   0.0  1.191857  0.266151  0.166480  0.448154  0.060018 -0.082361 -0.078803   \n",
       "2   1.0 -1.358354 -1.340163  1.773209  0.379780 -0.503198  1.800499  0.791461   \n",
       "3   1.0 -0.966272 -0.185226  1.792993 -0.863291 -0.010309  1.247203  0.237609   \n",
       "4   2.0 -1.158233  0.877737  1.548718  0.403034 -0.407193  0.095921  0.592941   \n",
       "\n",
       "         V8        V9  ...       V21       V22       V23       V24       V25  \\\n",
       "0  0.098698  0.363787  ... -0.018307  0.277838 -0.110474  0.066928  0.128539   \n",
       "1  0.085102 -0.255425  ... -0.225775 -0.638672  0.101288 -0.339846  0.167170   \n",
       "2  0.247676 -1.514654  ...  0.247998  0.771679  0.909412 -0.689281 -0.327642   \n",
       "3  0.377436 -1.387024  ... -0.108300  0.005274 -0.190321 -1.175575  0.647376   \n",
       "4 -0.270533  0.817739  ... -0.009431  0.798278 -0.137458  0.141267 -0.206010   \n",
       "\n",
       "        V26       V27       V28  Amount  Class  \n",
       "0 -0.189115  0.133558 -0.021053  149.62      0  \n",
       "1  0.125895 -0.008983  0.014724    2.69      0  \n",
       "2 -0.139097 -0.055353 -0.059752  378.66      0  \n",
       "3 -0.221929  0.062723  0.061458  123.50      0  \n",
       "4  0.502292  0.219422  0.215153   69.99      0  \n",
       "\n",
       "[5 rows x 31 columns]"
      ]
     },
     "execution_count": 4,
     "metadata": {},
     "output_type": "execute_result"
    }
   ],
   "source": [
    "creditdf.head()"
   ]
  },
  {
   "cell_type": "code",
   "execution_count": 5,
   "id": "40de28dc",
   "metadata": {},
   "outputs": [
    {
     "data": {
      "text/plain": [
       "0    284315\n",
       "1       492\n",
       "Name: Class, dtype: int64"
      ]
     },
     "execution_count": 5,
     "metadata": {},
     "output_type": "execute_result"
    }
   ],
   "source": [
    "creditdf.Class.value_counts()"
   ]
  },
  {
   "cell_type": "code",
   "execution_count": 7,
   "id": "e8b2077b",
   "metadata": {},
   "outputs": [],
   "source": [
    "# This indicates that this is highly imbalanced dataset\n",
    "# 0 represents legal transacation and 1 represnts fraudulant transaction"
   ]
  },
  {
   "cell_type": "code",
   "execution_count": 8,
   "id": "97d6aeff",
   "metadata": {},
   "outputs": [],
   "source": [
    "# seperating the legit and fraud transactions\n",
    "legit = creditdf[creditdf.Class == 0]\n",
    "fraud = creditdf[creditdf.Class == 1]"
   ]
  },
  {
   "cell_type": "code",
   "execution_count": 11,
   "id": "e8589b11",
   "metadata": {},
   "outputs": [
    {
     "data": {
      "text/plain": [
       "(284315, 31)"
      ]
     },
     "execution_count": 11,
     "metadata": {},
     "output_type": "execute_result"
    }
   ],
   "source": [
    "legit.shape"
   ]
  },
  {
   "cell_type": "code",
   "execution_count": 12,
   "id": "06b09555",
   "metadata": {},
   "outputs": [
    {
     "data": {
      "text/plain": [
       "(492, 31)"
      ]
     },
     "execution_count": 12,
     "metadata": {},
     "output_type": "execute_result"
    }
   ],
   "source": [
    "fraud.shape"
   ]
  },
  {
   "cell_type": "code",
   "execution_count": 13,
   "id": "ad565ada",
   "metadata": {},
   "outputs": [],
   "source": [
    "# Under Sampling\n",
    "# This means we will take a sample dataset containing 492 legit transacation\n",
    "legit_sample = legit.sample(n=492)"
   ]
  },
  {
   "cell_type": "code",
   "execution_count": 14,
   "id": "e1874c2c",
   "metadata": {},
   "outputs": [
    {
     "data": {
      "text/plain": [
       "(492, 31)"
      ]
     },
     "execution_count": 14,
     "metadata": {},
     "output_type": "execute_result"
    }
   ],
   "source": [
    "legit_sample.shape"
   ]
  },
  {
   "cell_type": "code",
   "execution_count": 20,
   "id": "310ced6c",
   "metadata": {},
   "outputs": [],
   "source": [
    "#concatinating the two dataframe\n",
    "newDf= pd.concat([legit_sample,fraud],axis=0)"
   ]
  },
  {
   "cell_type": "code",
   "execution_count": 21,
   "id": "c5f32d30",
   "metadata": {},
   "outputs": [
    {
     "data": {
      "text/html": [
       "<div>\n",
       "<style scoped>\n",
       "    .dataframe tbody tr th:only-of-type {\n",
       "        vertical-align: middle;\n",
       "    }\n",
       "\n",
       "    .dataframe tbody tr th {\n",
       "        vertical-align: top;\n",
       "    }\n",
       "\n",
       "    .dataframe thead th {\n",
       "        text-align: right;\n",
       "    }\n",
       "</style>\n",
       "<table border=\"1\" class=\"dataframe\">\n",
       "  <thead>\n",
       "    <tr style=\"text-align: right;\">\n",
       "      <th></th>\n",
       "      <th>Time</th>\n",
       "      <th>V1</th>\n",
       "      <th>V2</th>\n",
       "      <th>V3</th>\n",
       "      <th>V4</th>\n",
       "      <th>V5</th>\n",
       "      <th>V6</th>\n",
       "      <th>V7</th>\n",
       "      <th>V8</th>\n",
       "      <th>V9</th>\n",
       "      <th>...</th>\n",
       "      <th>V21</th>\n",
       "      <th>V22</th>\n",
       "      <th>V23</th>\n",
       "      <th>V24</th>\n",
       "      <th>V25</th>\n",
       "      <th>V26</th>\n",
       "      <th>V27</th>\n",
       "      <th>V28</th>\n",
       "      <th>Amount</th>\n",
       "      <th>Class</th>\n",
       "    </tr>\n",
       "  </thead>\n",
       "  <tbody>\n",
       "    <tr>\n",
       "      <th>71541</th>\n",
       "      <td>54332.0</td>\n",
       "      <td>-0.845937</td>\n",
       "      <td>0.699159</td>\n",
       "      <td>1.954529</td>\n",
       "      <td>1.735415</td>\n",
       "      <td>-0.550769</td>\n",
       "      <td>0.785320</td>\n",
       "      <td>-0.306700</td>\n",
       "      <td>0.751504</td>\n",
       "      <td>0.270437</td>\n",
       "      <td>...</td>\n",
       "      <td>-0.229098</td>\n",
       "      <td>-0.339722</td>\n",
       "      <td>0.070876</td>\n",
       "      <td>0.106001</td>\n",
       "      <td>-0.338826</td>\n",
       "      <td>-0.439992</td>\n",
       "      <td>0.114896</td>\n",
       "      <td>0.071237</td>\n",
       "      <td>25.90</td>\n",
       "      <td>0</td>\n",
       "    </tr>\n",
       "    <tr>\n",
       "      <th>65058</th>\n",
       "      <td>51412.0</td>\n",
       "      <td>-0.899574</td>\n",
       "      <td>0.810885</td>\n",
       "      <td>1.675046</td>\n",
       "      <td>-0.057372</td>\n",
       "      <td>0.318539</td>\n",
       "      <td>-0.899597</td>\n",
       "      <td>0.426254</td>\n",
       "      <td>-0.011881</td>\n",
       "      <td>-0.697733</td>\n",
       "      <td>...</td>\n",
       "      <td>-0.127709</td>\n",
       "      <td>-0.312654</td>\n",
       "      <td>-0.053936</td>\n",
       "      <td>0.550685</td>\n",
       "      <td>-0.452160</td>\n",
       "      <td>-0.001548</td>\n",
       "      <td>0.245808</td>\n",
       "      <td>0.167514</td>\n",
       "      <td>0.99</td>\n",
       "      <td>0</td>\n",
       "    </tr>\n",
       "    <tr>\n",
       "      <th>176935</th>\n",
       "      <td>122974.0</td>\n",
       "      <td>-0.044764</td>\n",
       "      <td>0.645106</td>\n",
       "      <td>0.245390</td>\n",
       "      <td>-0.217676</td>\n",
       "      <td>0.578699</td>\n",
       "      <td>-1.066504</td>\n",
       "      <td>0.880370</td>\n",
       "      <td>-0.218062</td>\n",
       "      <td>-0.268530</td>\n",
       "      <td>...</td>\n",
       "      <td>0.377881</td>\n",
       "      <td>1.103886</td>\n",
       "      <td>-0.156049</td>\n",
       "      <td>-0.043377</td>\n",
       "      <td>-0.661050</td>\n",
       "      <td>0.449028</td>\n",
       "      <td>0.162050</td>\n",
       "      <td>0.209876</td>\n",
       "      <td>10.53</td>\n",
       "      <td>0</td>\n",
       "    </tr>\n",
       "    <tr>\n",
       "      <th>231096</th>\n",
       "      <td>146611.0</td>\n",
       "      <td>2.119092</td>\n",
       "      <td>-0.192374</td>\n",
       "      <td>-2.282244</td>\n",
       "      <td>-0.645700</td>\n",
       "      <td>0.563969</td>\n",
       "      <td>-1.234259</td>\n",
       "      <td>0.637818</td>\n",
       "      <td>-0.494644</td>\n",
       "      <td>0.487777</td>\n",
       "      <td>...</td>\n",
       "      <td>0.095896</td>\n",
       "      <td>0.431375</td>\n",
       "      <td>-0.022199</td>\n",
       "      <td>0.724780</td>\n",
       "      <td>0.333403</td>\n",
       "      <td>1.050103</td>\n",
       "      <td>-0.144826</td>\n",
       "      <td>-0.082262</td>\n",
       "      <td>27.83</td>\n",
       "      <td>0</td>\n",
       "    </tr>\n",
       "    <tr>\n",
       "      <th>239111</th>\n",
       "      <td>149955.0</td>\n",
       "      <td>2.215568</td>\n",
       "      <td>-0.603204</td>\n",
       "      <td>-1.289768</td>\n",
       "      <td>-0.884913</td>\n",
       "      <td>-0.491555</td>\n",
       "      <td>-1.329781</td>\n",
       "      <td>-0.234891</td>\n",
       "      <td>-0.477689</td>\n",
       "      <td>-0.714084</td>\n",
       "      <td>...</td>\n",
       "      <td>0.453063</td>\n",
       "      <td>1.394733</td>\n",
       "      <td>-0.021771</td>\n",
       "      <td>0.081071</td>\n",
       "      <td>0.228886</td>\n",
       "      <td>0.067614</td>\n",
       "      <td>-0.028240</td>\n",
       "      <td>-0.063390</td>\n",
       "      <td>15.00</td>\n",
       "      <td>0</td>\n",
       "    </tr>\n",
       "  </tbody>\n",
       "</table>\n",
       "<p>5 rows × 31 columns</p>\n",
       "</div>"
      ],
      "text/plain": [
       "            Time        V1        V2        V3        V4        V5        V6  \\\n",
       "71541    54332.0 -0.845937  0.699159  1.954529  1.735415 -0.550769  0.785320   \n",
       "65058    51412.0 -0.899574  0.810885  1.675046 -0.057372  0.318539 -0.899597   \n",
       "176935  122974.0 -0.044764  0.645106  0.245390 -0.217676  0.578699 -1.066504   \n",
       "231096  146611.0  2.119092 -0.192374 -2.282244 -0.645700  0.563969 -1.234259   \n",
       "239111  149955.0  2.215568 -0.603204 -1.289768 -0.884913 -0.491555 -1.329781   \n",
       "\n",
       "              V7        V8        V9  ...       V21       V22       V23  \\\n",
       "71541  -0.306700  0.751504  0.270437  ... -0.229098 -0.339722  0.070876   \n",
       "65058   0.426254 -0.011881 -0.697733  ... -0.127709 -0.312654 -0.053936   \n",
       "176935  0.880370 -0.218062 -0.268530  ...  0.377881  1.103886 -0.156049   \n",
       "231096  0.637818 -0.494644  0.487777  ...  0.095896  0.431375 -0.022199   \n",
       "239111 -0.234891 -0.477689 -0.714084  ...  0.453063  1.394733 -0.021771   \n",
       "\n",
       "             V24       V25       V26       V27       V28  Amount  Class  \n",
       "71541   0.106001 -0.338826 -0.439992  0.114896  0.071237   25.90      0  \n",
       "65058   0.550685 -0.452160 -0.001548  0.245808  0.167514    0.99      0  \n",
       "176935 -0.043377 -0.661050  0.449028  0.162050  0.209876   10.53      0  \n",
       "231096  0.724780  0.333403  1.050103 -0.144826 -0.082262   27.83      0  \n",
       "239111  0.081071  0.228886  0.067614 -0.028240 -0.063390   15.00      0  \n",
       "\n",
       "[5 rows x 31 columns]"
      ]
     },
     "execution_count": 21,
     "metadata": {},
     "output_type": "execute_result"
    }
   ],
   "source": [
    "newDf.head()"
   ]
  },
  {
   "cell_type": "code",
   "execution_count": 22,
   "id": "047cba65",
   "metadata": {},
   "outputs": [
    {
     "data": {
      "text/plain": [
       "(984, 31)"
      ]
     },
     "execution_count": 22,
     "metadata": {},
     "output_type": "execute_result"
    }
   ],
   "source": [
    "newDf.shape"
   ]
  },
  {
   "cell_type": "code",
   "execution_count": 23,
   "id": "593414c1",
   "metadata": {},
   "outputs": [
    {
     "data": {
      "text/plain": [
       "0    492\n",
       "1    492\n",
       "Name: Class, dtype: int64"
      ]
     },
     "execution_count": 23,
     "metadata": {},
     "output_type": "execute_result"
    }
   ],
   "source": [
    "newDf.Class.value_counts()"
   ]
  },
  {
   "cell_type": "code",
   "execution_count": null,
   "id": "8609bedf",
   "metadata": {},
   "outputs": [],
   "source": []
  }
 ],
 "metadata": {
  "kernelspec": {
   "display_name": "Python 3 (ipykernel)",
   "language": "python",
   "name": "python3"
  },
  "language_info": {
   "codemirror_mode": {
    "name": "ipython",
    "version": 3
   },
   "file_extension": ".py",
   "mimetype": "text/x-python",
   "name": "python",
   "nbconvert_exporter": "python",
   "pygments_lexer": "ipython3",
   "version": "3.9.13"
  }
 },
 "nbformat": 4,
 "nbformat_minor": 5
}
