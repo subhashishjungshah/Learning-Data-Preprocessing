{
 "cells": [
  {
   "cell_type": "markdown",
   "id": "87d8a6ca",
   "metadata": {},
   "source": [
    "### Random in Numpy"
   ]
  },
  {
   "cell_type": "code",
   "execution_count": 1,
   "id": "b75dfea5",
   "metadata": {},
   "outputs": [],
   "source": [
    "# we can generate array with pseudo random values using random in  numpy"
   ]
  },
  {
   "cell_type": "code",
   "execution_count": 2,
   "id": "aef57c4e",
   "metadata": {},
   "outputs": [],
   "source": [
    "import numpy as np"
   ]
  },
  {
   "cell_type": "code",
   "execution_count": 3,
   "id": "74a3058e",
   "metadata": {},
   "outputs": [],
   "source": [
    "arr_1 = np.random.randint(10,20,(3,2))"
   ]
  },
  {
   "cell_type": "code",
   "execution_count": 4,
   "id": "71306b1d",
   "metadata": {},
   "outputs": [
    {
     "name": "stdout",
     "output_type": "stream",
     "text": [
      "[[10 17]\n",
      " [16 10]\n",
      " [16 12]]\n"
     ]
    }
   ],
   "source": [
    "print(arr_1)"
   ]
  },
  {
   "cell_type": "code",
   "execution_count": 5,
   "id": "34c76b9f",
   "metadata": {},
   "outputs": [],
   "source": [
    "# This selects a random choice number from a given array\n",
    "arr_2 = np.random.choice([3,5,6,7])"
   ]
  },
  {
   "cell_type": "code",
   "execution_count": 6,
   "id": "248c87c6",
   "metadata": {},
   "outputs": [
    {
     "name": "stdout",
     "output_type": "stream",
     "text": [
      "3\n"
     ]
    }
   ],
   "source": [
    "print(arr_2)"
   ]
  },
  {
   "cell_type": "markdown",
   "id": "ea9b7728",
   "metadata": {},
   "source": [
    "## Data distribution in Numpy"
   ]
  },
  {
   "cell_type": "code",
   "execution_count": 7,
   "id": "1c4599b5",
   "metadata": {},
   "outputs": [],
   "source": [
    "# Data Distribution is a list of all possible values, and how often each value occurs."
   ]
  },
  {
   "cell_type": "code",
   "execution_count": 8,
   "id": "aa6fc44f",
   "metadata": {},
   "outputs": [],
   "source": [
    "# Random distribution le chai harek array ma occur huna sakne harek random number ko probability specify gareko huncha"
   ]
  },
  {
   "cell_type": "code",
   "execution_count": 9,
   "id": "12dccfa4",
   "metadata": {},
   "outputs": [],
   "source": [
    "x = np.random.choice([1,2,3,4,5],p = [0.1,0.2,0.3,0.4,0.0],size=(100))"
   ]
  },
  {
   "cell_type": "code",
   "execution_count": 10,
   "id": "eb036d3a",
   "metadata": {},
   "outputs": [
    {
     "name": "stdout",
     "output_type": "stream",
     "text": [
      "[3 4 4 4 2 4 4 4 3 3 4 4 3 4 3 2 4 3 4 2 3 1 4 4 4 4 1 2 4 4 3 3 4 3 1 4 1\n",
      " 2 3 4 4 4 3 4 3 4 4 2 3 2 3 4 4 1 4 3 4 4 3 1 3 1 2 4 1 3 2 3 3 4 4 3 4 3\n",
      " 4 4 3 4 1 4 2 2 1 1 4 2 2 3 2 4 3 1 3 4 4 3 2 4 1 3]\n"
     ]
    }
   ],
   "source": [
    "print(x)"
   ]
  },
  {
   "cell_type": "code",
   "execution_count": 11,
   "id": "23226954",
   "metadata": {},
   "outputs": [],
   "source": [
    "y = np.random.choice([1,3,4,5], p = [0.4,0.2,0.3,0.1],size=(2,3))"
   ]
  },
  {
   "cell_type": "code",
   "execution_count": 12,
   "id": "6c99063c",
   "metadata": {},
   "outputs": [
    {
     "name": "stdout",
     "output_type": "stream",
     "text": [
      "[[1 4 4]\n",
      " [4 3 3]]\n"
     ]
    }
   ],
   "source": [
    "print(y)"
   ]
  },
  {
   "cell_type": "code",
   "execution_count": 13,
   "id": "61eb924c",
   "metadata": {},
   "outputs": [],
   "source": [
    "flaty = y.reshape(-1)"
   ]
  },
  {
   "cell_type": "code",
   "execution_count": 14,
   "id": "e7c32bf2",
   "metadata": {},
   "outputs": [
    {
     "name": "stdout",
     "output_type": "stream",
     "text": [
      "[1 4 4 4 3 3]\n"
     ]
    }
   ],
   "source": [
    "print(flaty)"
   ]
  },
  {
   "cell_type": "code",
   "execution_count": 15,
   "id": "1f10451a",
   "metadata": {},
   "outputs": [
    {
     "name": "stdout",
     "output_type": "stream",
     "text": [
      "[[1 4 4]\n",
      " [4 3 3]]\n"
     ]
    }
   ],
   "source": [
    "print(y)"
   ]
  },
  {
   "cell_type": "code",
   "execution_count": 16,
   "id": "a5bd722d",
   "metadata": {},
   "outputs": [],
   "source": [
    "reshapey = y.reshape(3,2)"
   ]
  },
  {
   "cell_type": "code",
   "execution_count": 17,
   "id": "279686f1",
   "metadata": {},
   "outputs": [
    {
     "name": "stdout",
     "output_type": "stream",
     "text": [
      "[[1 4]\n",
      " [4 4]\n",
      " [3 3]]\n"
     ]
    }
   ],
   "source": [
    "print(reshapey)"
   ]
  },
  {
   "cell_type": "code",
   "execution_count": 18,
   "id": "afc39005",
   "metadata": {},
   "outputs": [],
   "source": [
    "transpose = y.T"
   ]
  },
  {
   "cell_type": "code",
   "execution_count": 19,
   "id": "b9fa3b1d",
   "metadata": {},
   "outputs": [
    {
     "name": "stdout",
     "output_type": "stream",
     "text": [
      "[[1 4]\n",
      " [4 3]\n",
      " [4 3]]\n"
     ]
    }
   ],
   "source": [
    "print(transpose)"
   ]
  },
  {
   "cell_type": "markdown",
   "id": "8eb92e5e",
   "metadata": {},
   "source": [
    "## Random Permutation"
   ]
  },
  {
   "cell_type": "code",
   "execution_count": 20,
   "id": "105f6f20",
   "metadata": {},
   "outputs": [],
   "source": [
    "# A permutation refers to an arrangement of elements. e.g. [3, 2, 1] is a permutation of [1, 2, 3] and vice-versa."
   ]
  },
  {
   "cell_type": "code",
   "execution_count": 21,
   "id": "72db6dd3",
   "metadata": {},
   "outputs": [],
   "source": [
    "arr = np.array([1,2,3,4,5])"
   ]
  },
  {
   "cell_type": "code",
   "execution_count": 22,
   "id": "cf5bc416",
   "metadata": {},
   "outputs": [],
   "source": [
    "np.random.shuffle(arr)"
   ]
  },
  {
   "cell_type": "code",
   "execution_count": 23,
   "id": "3c2e3de4",
   "metadata": {},
   "outputs": [
    {
     "name": "stdout",
     "output_type": "stream",
     "text": [
      "[2 5 1 4 3]\n"
     ]
    }
   ],
   "source": [
    "print(arr)"
   ]
  },
  {
   "cell_type": "code",
   "execution_count": 24,
   "id": "113e9ab8",
   "metadata": {},
   "outputs": [],
   "source": [
    "arr2 = np.array([1,2,3,4,5])"
   ]
  },
  {
   "cell_type": "code",
   "execution_count": 25,
   "id": "5673a416",
   "metadata": {},
   "outputs": [
    {
     "name": "stdout",
     "output_type": "stream",
     "text": [
      "[1 2 4 3 5]\n",
      "[1 2 3 4 5]\n"
     ]
    }
   ],
   "source": [
    "print(np.random.permutation(arr2))\n",
    "print(arr2)"
   ]
  },
  {
   "cell_type": "code",
   "execution_count": 26,
   "id": "8cffd543",
   "metadata": {},
   "outputs": [],
   "source": [
    "# shuffle makes changes to the orginal array whereas permutation randomly shuffles the array without making any changes to orgina; array"
   ]
  },
  {
   "cell_type": "markdown",
   "id": "c84e5b94",
   "metadata": {},
   "source": [
    "## Numpy Ufunc"
   ]
  },
  {
   "cell_type": "code",
   "execution_count": 27,
   "id": "a73f9c87",
   "metadata": {},
   "outputs": [],
   "source": [
    "#ufuncs stands for \"Universal Functions\" and they are NumPy functions that operate on the ndarray object."
   ]
  },
  {
   "cell_type": "code",
   "execution_count": 28,
   "id": "46362fb5",
   "metadata": {},
   "outputs": [
    {
     "name": "stdout",
     "output_type": "stream",
     "text": [
      "[5, 7, 9, 11]\n"
     ]
    }
   ],
   "source": [
    "# Old Pythonic way for adding two different iterables\n",
    "x = [1, 2, 3, 4]\n",
    "y = [4, 5, 6, 7]\n",
    "z = []\n",
    "\n",
    "for i, j in zip(x, y):\n",
    "  z.append(i + j)\n",
    "print(z)"
   ]
  },
  {
   "cell_type": "code",
   "execution_count": 29,
   "id": "992a6d25",
   "metadata": {},
   "outputs": [],
   "source": [
    "# using numpy we can use add() function in order to add these"
   ]
  },
  {
   "cell_type": "code",
   "execution_count": 30,
   "id": "8163d1a0",
   "metadata": {},
   "outputs": [],
   "source": [
    "z = np.add(x,y)"
   ]
  },
  {
   "cell_type": "code",
   "execution_count": 31,
   "id": "cf1427d4",
   "metadata": {},
   "outputs": [
    {
     "name": "stdout",
     "output_type": "stream",
     "text": [
      "[ 5  7  9 11]\n"
     ]
    }
   ],
   "source": [
    "print(z)"
   ]
  },
  {
   "cell_type": "code",
   "execution_count": 32,
   "id": "00041d8c",
   "metadata": {},
   "outputs": [
    {
     "name": "stdout",
     "output_type": "stream",
     "text": [
      "[6 8 10 12]\n"
     ]
    }
   ],
   "source": [
    "def myadd(x, y):\n",
    "  return x+y\n",
    "\n",
    "myadd = np.frompyfunc(myadd, 2, 1)\n",
    "\n",
    "print(myadd([1, 2, 3, 4], [5, 6, 7, 8]))"
   ]
  },
  {
   "cell_type": "code",
   "execution_count": 33,
   "id": "c88fb2c5",
   "metadata": {},
   "outputs": [
    {
     "name": "stdout",
     "output_type": "stream",
     "text": [
      "<class 'numpy.ufunc'>\n"
     ]
    }
   ],
   "source": [
    "print(type(np.add))"
   ]
  },
  {
   "cell_type": "code",
   "execution_count": 34,
   "id": "fd756f87",
   "metadata": {},
   "outputs": [
    {
     "name": "stdout",
     "output_type": "stream",
     "text": [
      "[      1000    3200000  729000000 -520093696       2500          0]\n"
     ]
    }
   ],
   "source": [
    "arr1 = np.array([10, 20, 30, 40, 50, 60])\n",
    "arr2 = np.array([3, 5, 6, 8, 2, 33])\n",
    "\n",
    "newarr = np.power(arr1, arr2)\n",
    "\n",
    "print(newarr)"
   ]
  },
  {
   "cell_type": "code",
   "execution_count": 35,
   "id": "968582c4",
   "metadata": {},
   "outputs": [
    {
     "name": "stdout",
     "output_type": "stream",
     "text": [
      "[ 1  6  3  0  0 27]\n"
     ]
    }
   ],
   "source": [
    "arr1 = np.array([10, 20, 30, 40, 50, 60])\n",
    "arr2 = np.array([3, 7, 9, 8, 2, 33])\n",
    "\n",
    "newarr = np.mod(arr1, arr2)\n",
    "\n",
    "print(newarr)"
   ]
  },
  {
   "cell_type": "code",
   "execution_count": 36,
   "id": "8528a3ee",
   "metadata": {},
   "outputs": [
    {
     "name": "stdout",
     "output_type": "stream",
     "text": [
      "[ 1  6  3  0  0 27]\n"
     ]
    }
   ],
   "source": [
    "arr1 = np.array([10, 20, 30, 40, 50, 60])\n",
    "arr2 = np.array([3, 7, 9, 8, 2, 33])\n",
    "\n",
    "newarr = np.remainder(arr1, arr2)\n",
    "\n",
    "print(newarr)"
   ]
  },
  {
   "cell_type": "code",
   "execution_count": 37,
   "id": "a37ee150",
   "metadata": {},
   "outputs": [
    {
     "name": "stdout",
     "output_type": "stream",
     "text": [
      "(array([ 3,  2,  3,  5, 25,  1], dtype=int32), array([ 1,  6,  3,  0,  0, 27], dtype=int32))\n"
     ]
    }
   ],
   "source": [
    "# The divmod() function return both the quotient and the the mod. The return value is two arrays, the first array contains the quotient and second array contains the mod.\n",
    "arr1 = np.array([10, 20, 30, 40, 50, 60])\n",
    "arr2 = np.array([3, 7, 9, 8, 2, 33])\n",
    "\n",
    "newarr = np.divmod(arr1, arr2)\n",
    "\n",
    "print(newarr)"
   ]
  },
  {
   "cell_type": "code",
   "execution_count": 38,
   "id": "179af8db",
   "metadata": {},
   "outputs": [
    {
     "name": "stdout",
     "output_type": "stream",
     "text": [
      "[1 2 1 2 3 4]\n"
     ]
    }
   ],
   "source": [
    "arr = np.array([-1, -2, 1, 2, 3, -4])\n",
    "\n",
    "newarr = np.absolute(arr)\n",
    "\n",
    "print(newarr)"
   ]
  },
  {
   "cell_type": "markdown",
   "id": "8948d084",
   "metadata": {},
   "source": [
    "## Rounding Decimals"
   ]
  },
  {
   "cell_type": "code",
   "execution_count": 40,
   "id": "c88772d6",
   "metadata": {},
   "outputs": [],
   "source": [
    "arr1 = np.array([-3.1666, 3.6667])"
   ]
  },
  {
   "cell_type": "code",
   "execution_count": 42,
   "id": "2745fc19",
   "metadata": {},
   "outputs": [],
   "source": [
    "arr2 = np.trunc(arr1)"
   ]
  },
  {
   "cell_type": "code",
   "execution_count": 43,
   "id": "c8df7811",
   "metadata": {},
   "outputs": [
    {
     "name": "stdout",
     "output_type": "stream",
     "text": [
      "[-3.  3.]\n"
     ]
    }
   ],
   "source": [
    "print(arr2)"
   ]
  },
  {
   "cell_type": "code",
   "execution_count": 44,
   "id": "369f5bab",
   "metadata": {},
   "outputs": [],
   "source": [
    "# trunc basically rounds the element inside the array close to zero"
   ]
  },
  {
   "cell_type": "code",
   "execution_count": 45,
   "id": "dbbc8256",
   "metadata": {},
   "outputs": [],
   "source": [
    "arr3 = np.fix(arr2)"
   ]
  },
  {
   "cell_type": "code",
   "execution_count": 46,
   "id": "27b4a5e4",
   "metadata": {},
   "outputs": [
    {
     "name": "stdout",
     "output_type": "stream",
     "text": [
      "[-3.  3.]\n"
     ]
    }
   ],
   "source": [
    "print(arr3)"
   ]
  },
  {
   "cell_type": "code",
   "execution_count": 47,
   "id": "2642275c",
   "metadata": {},
   "outputs": [],
   "source": [
    "# It is same as tranc"
   ]
  },
  {
   "cell_type": "code",
   "execution_count": 48,
   "id": "9f982ae1",
   "metadata": {},
   "outputs": [
    {
     "name": "stdout",
     "output_type": "stream",
     "text": [
      "3.17\n"
     ]
    }
   ],
   "source": [
    "arr = np.around(3.1666, 2)\n",
    "\n",
    "print(arr)"
   ]
  },
  {
   "cell_type": "code",
   "execution_count": 49,
   "id": "f64df2b2",
   "metadata": {},
   "outputs": [
    {
     "name": "stdout",
     "output_type": "stream",
     "text": [
      "[-4.  3.]\n"
     ]
    }
   ],
   "source": [
    "arr = np.floor([-3.1666, 3.6667])\n",
    "\n",
    "print(arr)"
   ]
  },
  {
   "cell_type": "code",
   "execution_count": 50,
   "id": "2cfdbc9c",
   "metadata": {},
   "outputs": [
    {
     "name": "stdout",
     "output_type": "stream",
     "text": [
      "[-3.  4.]\n"
     ]
    }
   ],
   "source": [
    "arr = np.ceil([-3.1666, 3.6667])\n",
    "\n",
    "print(arr)"
   ]
  },
  {
   "cell_type": "code",
   "execution_count": 53,
   "id": "12230edf",
   "metadata": {},
   "outputs": [],
   "source": [
    "arr = np.arange(1, 10, 5)"
   ]
  },
  {
   "cell_type": "code",
   "execution_count": 54,
   "id": "7f1d3bde",
   "metadata": {},
   "outputs": [
    {
     "name": "stdout",
     "output_type": "stream",
     "text": [
      "[1 6]\n"
     ]
    }
   ],
   "source": [
    "print(arr)"
   ]
  },
  {
   "cell_type": "code",
   "execution_count": 55,
   "id": "00c498d2",
   "metadata": {},
   "outputs": [
    {
     "name": "stdout",
     "output_type": "stream",
     "text": [
      "[0.        2.5849625]\n"
     ]
    }
   ],
   "source": [
    "print(np.log2(arr))"
   ]
  },
  {
   "cell_type": "code",
   "execution_count": 56,
   "id": "472cb312",
   "metadata": {},
   "outputs": [
    {
     "name": "stdout",
     "output_type": "stream",
     "text": [
      "[1 3 6]\n"
     ]
    }
   ],
   "source": [
    "arr = np.array([1, 2, 3])\n",
    "\n",
    "newarr = np.cumsum(arr)\n",
    "\n",
    "print(newarr)"
   ]
  },
  {
   "cell_type": "code",
   "execution_count": null,
   "id": "48e1128e",
   "metadata": {},
   "outputs": [],
   "source": []
  }
 ],
 "metadata": {
  "kernelspec": {
   "display_name": "Python 3 (ipykernel)",
   "language": "python",
   "name": "python3"
  },
  "language_info": {
   "codemirror_mode": {
    "name": "ipython",
    "version": 3
   },
   "file_extension": ".py",
   "mimetype": "text/x-python",
   "name": "python",
   "nbconvert_exporter": "python",
   "pygments_lexer": "ipython3",
   "version": "3.9.13"
  }
 },
 "nbformat": 4,
 "nbformat_minor": 5
}
