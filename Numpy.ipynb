{
 "cells": [
  {
   "cell_type": "code",
   "execution_count": 1,
   "id": "79e8d179",
   "metadata": {},
   "outputs": [],
   "source": [
    "import numpy as np"
   ]
  },
  {
   "cell_type": "markdown",
   "id": "9358e2ff",
   "metadata": {},
   "source": [
    "### List vs Numpy"
   ]
  },
  {
   "cell_type": "code",
   "execution_count": 2,
   "id": "1dcde954",
   "metadata": {},
   "outputs": [],
   "source": [
    "from time import process_time"
   ]
  },
  {
   "cell_type": "code",
   "execution_count": 3,
   "id": "b5fc1210",
   "metadata": {},
   "outputs": [],
   "source": [
    "python_list = [ i for i in range(10000)]"
   ]
  },
  {
   "cell_type": "code",
   "execution_count": 4,
   "id": "a4009624",
   "metadata": {},
   "outputs": [],
   "source": [
    "start_time = process_time()"
   ]
  },
  {
   "cell_type": "code",
   "execution_count": 5,
   "id": "15fea9fe",
   "metadata": {},
   "outputs": [],
   "source": [
    "python_list = [i+5 for i in python_list ]"
   ]
  },
  {
   "cell_type": "code",
   "execution_count": 6,
   "id": "ac544343",
   "metadata": {},
   "outputs": [],
   "source": [
    "end_time = process_time()"
   ]
  },
  {
   "cell_type": "code",
   "execution_count": 7,
   "id": "68d73571",
   "metadata": {},
   "outputs": [
    {
     "name": "stdout",
     "output_type": "stream",
     "text": [
      "0.046875\n"
     ]
    }
   ],
   "source": [
    "print(end_time-start_time)"
   ]
  },
  {
   "cell_type": "code",
   "execution_count": 8,
   "id": "18144bce",
   "metadata": {},
   "outputs": [
    {
     "name": "stdout",
     "output_type": "stream",
     "text": [
      "0.0\n"
     ]
    }
   ],
   "source": [
    "npArray = np.array([i for i in range(10000)])\n",
    "starttime = process_time()\n",
    "npArray+=5\n",
    "endtime = process_time()\n",
    "print(endtime-starttime)"
   ]
  },
  {
   "cell_type": "markdown",
   "id": "44e3b0e7",
   "metadata": {},
   "source": [
    "## Operations in Numpy Array"
   ]
  },
  {
   "cell_type": "code",
   "execution_count": 9,
   "id": "c9be9347",
   "metadata": {},
   "outputs": [],
   "source": [
    "# This section shows the basic operations which we can perform in numpy array"
   ]
  },
  {
   "cell_type": "code",
   "execution_count": 10,
   "id": "5a861474",
   "metadata": {},
   "outputs": [],
   "source": [
    "list1 = [1,2,3,4,5]"
   ]
  },
  {
   "cell_type": "code",
   "execution_count": 11,
   "id": "94049ed6",
   "metadata": {},
   "outputs": [
    {
     "name": "stdout",
     "output_type": "stream",
     "text": [
      "[1, 2, 3, 4, 5]\n"
     ]
    }
   ],
   "source": [
    "print(list1)"
   ]
  },
  {
   "cell_type": "code",
   "execution_count": 12,
   "id": "dbaa7ecb",
   "metadata": {},
   "outputs": [
    {
     "data": {
      "text/plain": [
       "list"
      ]
     },
     "execution_count": 12,
     "metadata": {},
     "output_type": "execute_result"
    }
   ],
   "source": [
    "type(list1)"
   ]
  },
  {
   "cell_type": "code",
   "execution_count": 13,
   "id": "59f0587d",
   "metadata": {},
   "outputs": [],
   "source": [
    "np_array = np.array([1,2,3,4,5])"
   ]
  },
  {
   "cell_type": "code",
   "execution_count": 14,
   "id": "d134230c",
   "metadata": {},
   "outputs": [
    {
     "name": "stdout",
     "output_type": "stream",
     "text": [
      "[1 2 3 4 5]\n"
     ]
    },
    {
     "data": {
      "text/plain": [
       "numpy.ndarray"
      ]
     },
     "execution_count": 14,
     "metadata": {},
     "output_type": "execute_result"
    }
   ],
   "source": [
    "# elements arent seperated by comma, it is similar to matrixes\n",
    "print(np_array)\n",
    "type(np_array)"
   ]
  },
  {
   "cell_type": "code",
   "execution_count": 15,
   "id": "25f08ca4",
   "metadata": {},
   "outputs": [],
   "source": [
    "# creating one dimensional array"
   ]
  },
  {
   "cell_type": "code",
   "execution_count": 17,
   "id": "33efcf93",
   "metadata": {},
   "outputs": [],
   "source": [
    "a = np.array([1,2,3,4])"
   ]
  },
  {
   "cell_type": "code",
   "execution_count": 18,
   "id": "cc82b703",
   "metadata": {},
   "outputs": [
    {
     "data": {
      "text/plain": [
       "(4,)"
      ]
     },
     "execution_count": 18,
     "metadata": {},
     "output_type": "execute_result"
    }
   ],
   "source": [
    "a.shape"
   ]
  },
  {
   "cell_type": "code",
   "execution_count": 19,
   "id": "9f83700e",
   "metadata": {},
   "outputs": [],
   "source": [
    "# this shows that it as (rows,columns)"
   ]
  },
  {
   "cell_type": "code",
   "execution_count": 21,
   "id": "b11b0f51",
   "metadata": {},
   "outputs": [],
   "source": [
    "# creating a two dimensional array\n",
    "b = np.array([(1,2,3,4),(5,6,7,8)])"
   ]
  },
  {
   "cell_type": "code",
   "execution_count": 22,
   "id": "8f6def38",
   "metadata": {},
   "outputs": [
    {
     "data": {
      "text/plain": [
       "(2, 4)"
      ]
     },
     "execution_count": 22,
     "metadata": {},
     "output_type": "execute_result"
    }
   ],
   "source": [
    "b.shape"
   ]
  },
  {
   "cell_type": "code",
   "execution_count": 23,
   "id": "dd33b4e6",
   "metadata": {},
   "outputs": [
    {
     "name": "stdout",
     "output_type": "stream",
     "text": [
      "[[1 2 3 4]\n",
      " [5 6 7 8]]\n"
     ]
    }
   ],
   "source": [
    "print(b)"
   ]
  },
  {
   "cell_type": "code",
   "execution_count": 24,
   "id": "9f0e3194",
   "metadata": {},
   "outputs": [],
   "source": [
    "c = np.array([(1,2,3,4)],dtype=float)"
   ]
  },
  {
   "cell_type": "code",
   "execution_count": 25,
   "id": "011057af",
   "metadata": {},
   "outputs": [
    {
     "name": "stdout",
     "output_type": "stream",
     "text": [
      "[[1. 2. 3. 4.]]\n"
     ]
    }
   ],
   "source": [
    "print(c)"
   ]
  },
  {
   "cell_type": "code",
   "execution_count": 26,
   "id": "83574e48",
   "metadata": {},
   "outputs": [
    {
     "data": {
      "text/plain": [
       "(1, 4)"
      ]
     },
     "execution_count": 26,
     "metadata": {},
     "output_type": "execute_result"
    }
   ],
   "source": [
    "c.shape"
   ]
  },
  {
   "cell_type": "markdown",
   "id": "6acae058",
   "metadata": {},
   "source": [
    "## Initial Placeholders in Numpy"
   ]
  },
  {
   "cell_type": "code",
   "execution_count": 28,
   "id": "18e095b6",
   "metadata": {},
   "outputs": [
    {
     "name": "stdout",
     "output_type": "stream",
     "text": [
      "[[0. 0. 0. 0. 0.]\n",
      " [0. 0. 0. 0. 0.]\n",
      " [0. 0. 0. 0. 0.]\n",
      " [0. 0. 0. 0. 0.]]\n"
     ]
    }
   ],
   "source": [
    "# create a numpy array with all element zero\n",
    "x = np.zeros((4,5)) # mention dimension inside the function\n",
    "print(x)"
   ]
  },
  {
   "cell_type": "code",
   "execution_count": 31,
   "id": "2d30bb27",
   "metadata": {},
   "outputs": [
    {
     "name": "stdout",
     "output_type": "stream",
     "text": [
      "[[1. 1. 1.]\n",
      " [1. 1. 1.]\n",
      " [1. 1. 1.]]\n"
     ]
    }
   ],
   "source": [
    "# create a numpy array with element one\n",
    "y = np.ones((3,3))\n",
    "print(y)"
   ]
  },
  {
   "cell_type": "code",
   "execution_count": 32,
   "id": "dd8dc18e",
   "metadata": {},
   "outputs": [
    {
     "name": "stdout",
     "output_type": "stream",
     "text": [
      "[[5 5 5 5]\n",
      " [5 5 5 5]\n",
      " [5 5 5 5]\n",
      " [5 5 5 5]\n",
      " [5 5 5 5]]\n"
     ]
    }
   ],
   "source": [
    "# array with particular value\n",
    "z = np.full((5,4),5)\n",
    "print(z)"
   ]
  },
  {
   "cell_type": "code",
   "execution_count": 33,
   "id": "09cd9114",
   "metadata": {},
   "outputs": [
    {
     "name": "stdout",
     "output_type": "stream",
     "text": [
      "[[1. 0. 0. 0.]\n",
      " [0. 1. 0. 0.]\n",
      " [0. 0. 1. 0.]\n",
      " [0. 0. 0. 1.]]\n"
     ]
    }
   ],
   "source": [
    "# creating identity matrix in numpy\n",
    "a = np.eye(4)\n",
    "print(a)"
   ]
  },
  {
   "cell_type": "code",
   "execution_count": 34,
   "id": "34950daf",
   "metadata": {},
   "outputs": [],
   "source": [
    "# create a numpy array with random values"
   ]
  },
  {
   "cell_type": "code",
   "execution_count": 35,
   "id": "77a5865f",
   "metadata": {},
   "outputs": [],
   "source": [
    "b = np.random.random((3,4))"
   ]
  },
  {
   "cell_type": "code",
   "execution_count": 36,
   "id": "083e249e",
   "metadata": {},
   "outputs": [
    {
     "name": "stdout",
     "output_type": "stream",
     "text": [
      "[[0.54413889 0.83394561 0.3105222  0.45967044]\n",
      " [0.70623196 0.38323053 0.7431477  0.17915905]\n",
      " [0.95664156 0.72312519 0.61401515 0.35854763]]\n"
     ]
    }
   ],
   "source": [
    "print(b)"
   ]
  },
  {
   "cell_type": "code",
   "execution_count": 37,
   "id": "9c0f34e5",
   "metadata": {},
   "outputs": [],
   "source": [
    "# all the values will be between 0 and 1."
   ]
  },
  {
   "cell_type": "code",
   "execution_count": 38,
   "id": "f104d564",
   "metadata": {},
   "outputs": [
    {
     "name": "stdout",
     "output_type": "stream",
     "text": [
      "[[82 33 82 61 86]\n",
      " [75 89 12 62 29]\n",
      " [11 23 75 35 64]]\n"
     ]
    }
   ],
   "source": [
    "# random values integer array within a specific range i.e., 10-100 range\n",
    "c = np.random.randint(10,100,(3,5))\n",
    "print(c)"
   ]
  },
  {
   "cell_type": "code",
   "execution_count": 39,
   "id": "7a3b3d5d",
   "metadata": {},
   "outputs": [
    {
     "name": "stdout",
     "output_type": "stream",
     "text": [
      "[10. 15. 20. 25. 30.]\n"
     ]
    }
   ],
   "source": [
    "# array with evenly spaced values. Range is given as 10,30. We have 5 values and they should be evenly spaced\n",
    "d = np.linspace(10,30,5)\n",
    "print(d)"
   ]
  },
  {
   "cell_type": "code",
   "execution_count": 40,
   "id": "eceb4973",
   "metadata": {},
   "outputs": [],
   "source": [
    "# array of evenly spaced value -> specifiying the step, the step should be 5\n",
    "e = np.arange(10,30,5)"
   ]
  },
  {
   "cell_type": "code",
   "execution_count": 41,
   "id": "784a674e",
   "metadata": {},
   "outputs": [
    {
     "name": "stdout",
     "output_type": "stream",
     "text": [
      "[10 15 20 25]\n"
     ]
    }
   ],
   "source": [
    "print(e)"
   ]
  },
  {
   "cell_type": "code",
   "execution_count": 42,
   "id": "df9569b5",
   "metadata": {},
   "outputs": [
    {
     "name": "stdout",
     "output_type": "stream",
     "text": [
      "[10 20 30 40 50]\n"
     ]
    },
    {
     "data": {
      "text/plain": [
       "numpy.ndarray"
      ]
     },
     "execution_count": 42,
     "metadata": {},
     "output_type": "execute_result"
    }
   ],
   "source": [
    "# convert a list to a numpy array\n",
    "list2 = [10,20,30,40,50]\n",
    "np_array = np.asarray(list2)\n",
    "print(np_array)\n",
    "type(np_array)"
   ]
  },
  {
   "cell_type": "markdown",
   "id": "117fca22",
   "metadata": {},
   "source": [
    "## Analyzing a numpy array"
   ]
  },
  {
   "cell_type": "code",
   "execution_count": 43,
   "id": "6b7abee9",
   "metadata": {},
   "outputs": [
    {
     "name": "stdout",
     "output_type": "stream",
     "text": [
      "[[67 74 50 76 64]\n",
      " [89 80 50 39 31]\n",
      " [30 13 80 34 45]\n",
      " [48 83 14 13 67]\n",
      " [30 71 26 21 83]]\n"
     ]
    }
   ],
   "source": [
    "a = np.random.randint(10,90,(5,5))\n",
    "print(a)"
   ]
  },
  {
   "cell_type": "code",
   "execution_count": 45,
   "id": "67ba5e40",
   "metadata": {},
   "outputs": [
    {
     "data": {
      "text/plain": [
       "(5, 5)"
      ]
     },
     "execution_count": 45,
     "metadata": {},
     "output_type": "execute_result"
    }
   ],
   "source": [
    "# array dimension\n",
    "a.shape"
   ]
  },
  {
   "cell_type": "code",
   "execution_count": 46,
   "id": "7694e616",
   "metadata": {},
   "outputs": [
    {
     "data": {
      "text/plain": [
       "2"
      ]
     },
     "execution_count": 46,
     "metadata": {},
     "output_type": "execute_result"
    }
   ],
   "source": [
    "# number of dimension\n",
    "a.ndim"
   ]
  },
  {
   "cell_type": "code",
   "execution_count": 47,
   "id": "02942cee",
   "metadata": {},
   "outputs": [
    {
     "data": {
      "text/plain": [
       "25"
      ]
     },
     "execution_count": 47,
     "metadata": {},
     "output_type": "execute_result"
    }
   ],
   "source": [
    "# number of elements in an array\n",
    "a.size"
   ]
  },
  {
   "cell_type": "code",
   "execution_count": 48,
   "id": "51e6e0ad",
   "metadata": {},
   "outputs": [
    {
     "data": {
      "text/plain": [
       "dtype('int32')"
      ]
     },
     "execution_count": 48,
     "metadata": {},
     "output_type": "execute_result"
    }
   ],
   "source": [
    "# checking datatype of the values in the array\n",
    "a.dtype"
   ]
  },
  {
   "cell_type": "markdown",
   "id": "2cf0145b",
   "metadata": {},
   "source": [
    "## Mathematical operations on Numpy Array"
   ]
  },
  {
   "cell_type": "code",
   "execution_count": 49,
   "id": "765be85b",
   "metadata": {},
   "outputs": [
    {
     "name": "stdout",
     "output_type": "stream",
     "text": [
      "[1, 2, 3, 4, 5, 6, 7, 8, 9, 10]\n"
     ]
    }
   ],
   "source": [
    "list1 = [1,2,3,4,5]\n",
    "list2 = [6,7,8,9,10]\n",
    "# It will concat two lists\n",
    "print(list1+list2)"
   ]
  },
  {
   "cell_type": "code",
   "execution_count": 50,
   "id": "52f8da71",
   "metadata": {},
   "outputs": [],
   "source": [
    "a = np.asarray(list1)"
   ]
  },
  {
   "cell_type": "code",
   "execution_count": 51,
   "id": "3e922841",
   "metadata": {},
   "outputs": [],
   "source": [
    "b = np.asarray(list2)"
   ]
  },
  {
   "cell_type": "code",
   "execution_count": 53,
   "id": "9222e181",
   "metadata": {},
   "outputs": [
    {
     "name": "stdout",
     "output_type": "stream",
     "text": [
      "[ 7  9 11 13 15]\n",
      "[-5 -5 -5 -5 -5]\n",
      "[ 6 14 24 36 50]\n",
      "[0.16666667 0.28571429 0.375      0.44444444 0.5       ]\n"
     ]
    }
   ],
   "source": [
    "print(a+b)\n",
    "print(a-b)\n",
    "print(a*b)\n",
    "print(a/b)"
   ]
  },
  {
   "cell_type": "code",
   "execution_count": 54,
   "id": "c1ab6299",
   "metadata": {},
   "outputs": [
    {
     "name": "stdout",
     "output_type": "stream",
     "text": [
      "[ 7  9 11 13 15]\n"
     ]
    }
   ],
   "source": [
    "# Alternatively we can do\n",
    "print(np.add(a,b))"
   ]
  },
  {
   "cell_type": "code",
   "execution_count": 55,
   "id": "41a96a74",
   "metadata": {},
   "outputs": [
    {
     "name": "stdout",
     "output_type": "stream",
     "text": [
      "[-5 -5 -5 -5 -5]\n",
      "[ 6 14 24 36 50]\n",
      "[0.16666667 0.28571429 0.375      0.44444444 0.5       ]\n"
     ]
    }
   ],
   "source": [
    "print(np.subtract(a,b))\n",
    "print(np.multiply(a,b))\n",
    "print(np.divide(a,b))"
   ]
  },
  {
   "cell_type": "markdown",
   "id": "20833e39",
   "metadata": {},
   "source": [
    "## Array Manipulation"
   ]
  },
  {
   "cell_type": "code",
   "execution_count": 56,
   "id": "6cf1aa00",
   "metadata": {},
   "outputs": [],
   "source": [
    "array = np.random.randint(0,10,(2,3))"
   ]
  },
  {
   "cell_type": "code",
   "execution_count": 57,
   "id": "c07fe245",
   "metadata": {},
   "outputs": [
    {
     "name": "stdout",
     "output_type": "stream",
     "text": [
      "[[9 6 3]\n",
      " [6 2 6]]\n"
     ]
    }
   ],
   "source": [
    "print(array)"
   ]
  },
  {
   "cell_type": "code",
   "execution_count": 58,
   "id": "6777b949",
   "metadata": {},
   "outputs": [
    {
     "data": {
      "text/plain": [
       "(2, 3)"
      ]
     },
     "execution_count": 58,
     "metadata": {},
     "output_type": "execute_result"
    }
   ],
   "source": [
    "array.shape"
   ]
  },
  {
   "cell_type": "code",
   "execution_count": 59,
   "id": "7bdd1292",
   "metadata": {},
   "outputs": [],
   "source": [
    "# transpose of this matrix\n",
    "trans = np.transpose(array)"
   ]
  },
  {
   "cell_type": "code",
   "execution_count": 60,
   "id": "fa6091ee",
   "metadata": {},
   "outputs": [
    {
     "name": "stdout",
     "output_type": "stream",
     "text": [
      "[[9 6]\n",
      " [6 2]\n",
      " [3 6]]\n"
     ]
    }
   ],
   "source": [
    "print(trans)"
   ]
  },
  {
   "cell_type": "code",
   "execution_count": 61,
   "id": "874c757b",
   "metadata": {},
   "outputs": [
    {
     "data": {
      "text/plain": [
       "(3, 2)"
      ]
     },
     "execution_count": 61,
     "metadata": {},
     "output_type": "execute_result"
    }
   ],
   "source": [
    "trans.shape"
   ]
  },
  {
   "cell_type": "code",
   "execution_count": 62,
   "id": "c7ee173c",
   "metadata": {},
   "outputs": [],
   "source": [
    "trans2 = array.T"
   ]
  },
  {
   "cell_type": "code",
   "execution_count": 63,
   "id": "7f3d6897",
   "metadata": {},
   "outputs": [
    {
     "name": "stdout",
     "output_type": "stream",
     "text": [
      "[[9 6]\n",
      " [6 2]\n",
      " [3 6]]\n"
     ]
    },
    {
     "data": {
      "text/plain": [
       "(3, 2)"
      ]
     },
     "execution_count": 63,
     "metadata": {},
     "output_type": "execute_result"
    }
   ],
   "source": [
    "print(trans2)\n",
    "trans2.shape"
   ]
  },
  {
   "cell_type": "code",
   "execution_count": 64,
   "id": "67b78baa",
   "metadata": {},
   "outputs": [],
   "source": [
    "# reshaping an array \n",
    "resh = np.random.randint(0,10,(2,3))"
   ]
  },
  {
   "cell_type": "code",
   "execution_count": 65,
   "id": "33b39ca3",
   "metadata": {},
   "outputs": [
    {
     "name": "stdout",
     "output_type": "stream",
     "text": [
      "[[5 5 3]\n",
      " [1 3 5]]\n"
     ]
    }
   ],
   "source": [
    "print(resh)"
   ]
  },
  {
   "cell_type": "code",
   "execution_count": 66,
   "id": "4e3d0813",
   "metadata": {},
   "outputs": [
    {
     "data": {
      "text/plain": [
       "(2, 3)"
      ]
     },
     "execution_count": 66,
     "metadata": {},
     "output_type": "execute_result"
    }
   ],
   "source": [
    "resh.shape"
   ]
  },
  {
   "cell_type": "code",
   "execution_count": 73,
   "id": "bc5c6698",
   "metadata": {},
   "outputs": [],
   "source": [
    "anotherArray = resh.reshape(3,2)"
   ]
  },
  {
   "cell_type": "code",
   "execution_count": 74,
   "id": "698b8d98",
   "metadata": {},
   "outputs": [
    {
     "name": "stdout",
     "output_type": "stream",
     "text": [
      "[[5 5]\n",
      " [3 1]\n",
      " [3 5]]\n"
     ]
    }
   ],
   "source": [
    "print(anotherArray)"
   ]
  },
  {
   "cell_type": "code",
   "execution_count": 82,
   "id": "8a0a28b9",
   "metadata": {},
   "outputs": [
    {
     "name": "stdout",
     "output_type": "stream",
     "text": [
      "[[1 2 3]\n",
      " [4 5 6]]\n",
      "[1 2 3 4 5 6]\n"
     ]
    }
   ],
   "source": [
    "# flattening the array\n",
    "arr = np.array([[1, 2, 3], [4, 5, 6]])\n",
    "newArr = arr.reshape(-1)\n",
    "print(arr)\n",
    "print(newArr)"
   ]
  },
  {
   "cell_type": "code",
   "execution_count": 75,
   "id": "107e00d1",
   "metadata": {},
   "outputs": [
    {
     "name": "stdout",
     "output_type": "stream",
     "text": [
      "Last element from 2nd dim:  10\n"
     ]
    }
   ],
   "source": [
    "arr = np.array([[1,2,3,4,5], [6,7,8,9,10]])\n",
    "\n",
    "print('Last element from 2nd dim: ', arr[1, -1])"
   ]
  },
  {
   "cell_type": "code",
   "execution_count": 77,
   "id": "2b050180",
   "metadata": {},
   "outputs": [],
   "source": [
    "# changing dataype of an array\n",
    "arr = np.array([1.1, 2.1, 3.1])\n",
    "newArr = arr.astype('S')"
   ]
  },
  {
   "cell_type": "code",
   "execution_count": 78,
   "id": "a68a9c13",
   "metadata": {},
   "outputs": [
    {
     "name": "stdout",
     "output_type": "stream",
     "text": [
      "[b'1.1' b'2.1' b'3.1']\n"
     ]
    }
   ],
   "source": [
    "print(newArr)"
   ]
  },
  {
   "cell_type": "code",
   "execution_count": 79,
   "id": "bcb1b1c3",
   "metadata": {},
   "outputs": [
    {
     "name": "stdout",
     "output_type": "stream",
     "text": [
      "[42  2  3  4  5]\n",
      "[1 2 3 4 5]\n"
     ]
    }
   ],
   "source": [
    "# Copy vs View in  Numpy\n",
    "arr = np.array([1, 2, 3, 4, 5])\n",
    "x = arr.copy()\n",
    "arr[0] = 42\n",
    "\n",
    "print(arr)\n",
    "print(x)"
   ]
  },
  {
   "cell_type": "code",
   "execution_count": 80,
   "id": "8f7b9535",
   "metadata": {},
   "outputs": [
    {
     "name": "stdout",
     "output_type": "stream",
     "text": [
      "[42  5  6  7  8]\n",
      "[42  5  6  7  8]\n"
     ]
    }
   ],
   "source": [
    "arr2 = np.array([4,5,6,7,8])\n",
    "x = arr2.view()\n",
    "arr2[0] = 42\n",
    "print(arr2)\n",
    "print(x)"
   ]
  },
  {
   "cell_type": "code",
   "execution_count": 81,
   "id": "f2a3774f",
   "metadata": {},
   "outputs": [],
   "source": [
    "# copy makes a completely new array in memory location whereas view is the same location and changes in view can directly\n",
    "# effect original array"
   ]
  },
  {
   "cell_type": "markdown",
   "id": "8626f4bd",
   "metadata": {},
   "source": [
    "## Iteration through array"
   ]
  },
  {
   "cell_type": "code",
   "execution_count": 87,
   "id": "64dc728f",
   "metadata": {},
   "outputs": [
    {
     "name": "stdout",
     "output_type": "stream",
     "text": [
      "(3, 2)\n",
      "1\n",
      "2\n",
      "3\n",
      "4\n",
      "5\n",
      "6\n"
     ]
    }
   ],
   "source": [
    "arr = np.array([[1, 2], [3, 4], [5, 6]])\n",
    "print(arr.shape)\n",
    "for x in np.nditer(arr):\n",
    "  print(x)"
   ]
  },
  {
   "cell_type": "code",
   "execution_count": 88,
   "id": "600dcb67",
   "metadata": {},
   "outputs": [
    {
     "name": "stdout",
     "output_type": "stream",
     "text": [
      "(2, 2, 2)\n"
     ]
    }
   ],
   "source": [
    "arr = np.array([[[1, 2], [3, 4]], [[5, 6], [7, 8]]])\n",
    "print(arr.shape)"
   ]
  },
  {
   "cell_type": "code",
   "execution_count": 89,
   "id": "9407c8c6",
   "metadata": {},
   "outputs": [
    {
     "name": "stdout",
     "output_type": "stream",
     "text": [
      "b'1'\n",
      "b'2'\n",
      "b'3'\n"
     ]
    }
   ],
   "source": [
    "arr = np.array([1, 2, 3])\n",
    "\n",
    "for x in np.nditer(arr, flags=['buffered'], op_dtypes=['S']):\n",
    "  print(x)"
   ]
  },
  {
   "cell_type": "code",
   "execution_count": 90,
   "id": "0d7b23c4",
   "metadata": {},
   "outputs": [],
   "source": [
    "# when we add op_dtypes as parameter to nditer, it converts the element datatype as we want"
   ]
  },
  {
   "cell_type": "code",
   "execution_count": 91,
   "id": "acd48960",
   "metadata": {},
   "outputs": [
    {
     "name": "stdout",
     "output_type": "stream",
     "text": [
      "(0,) 1\n",
      "(1,) 2\n",
      "(2,) 3\n"
     ]
    }
   ],
   "source": [
    "arr = np.array([1, 2, 3])\n",
    "\n",
    "for idx, x in np.ndenumerate(arr):\n",
    "  print(idx, x)"
   ]
  },
  {
   "cell_type": "code",
   "execution_count": 92,
   "id": "e4e219f7",
   "metadata": {},
   "outputs": [
    {
     "name": "stdout",
     "output_type": "stream",
     "text": [
      "(0, 0, 0) 1\n",
      "(0, 0, 1) 2\n",
      "(0, 1, 0) 3\n",
      "(0, 1, 1) 4\n",
      "(1, 0, 0) 5\n",
      "(1, 0, 1) 6\n",
      "(1, 1, 0) 7\n",
      "(1, 1, 1) 8\n"
     ]
    }
   ],
   "source": [
    "arr = np.array([[[1, 2], [3, 4]], [[5, 6], [7, 8]]])\n",
    "for idx, x in np.ndenumerate(arr):\n",
    "  print(idx, x)"
   ]
  },
  {
   "cell_type": "code",
   "execution_count": 93,
   "id": "01dd837a",
   "metadata": {},
   "outputs": [],
   "source": [
    "# Enumerate means to show index as well as corresponding element side by side"
   ]
  },
  {
   "cell_type": "markdown",
   "id": "1ddc55e0",
   "metadata": {},
   "source": [
    "## Joining two arrays"
   ]
  },
  {
   "cell_type": "code",
   "execution_count": 94,
   "id": "7dfb9b2d",
   "metadata": {},
   "outputs": [],
   "source": [
    "arr1 = np.random.randint(0,10,(2,3))"
   ]
  },
  {
   "cell_type": "code",
   "execution_count": 98,
   "id": "da13bd07",
   "metadata": {},
   "outputs": [],
   "source": [
    "arr2 = np.random.randint(0,10,(2,3))"
   ]
  },
  {
   "cell_type": "code",
   "execution_count": 99,
   "id": "449858ab",
   "metadata": {},
   "outputs": [],
   "source": [
    "arr3 = np.concatenate((arr1,arr2))"
   ]
  },
  {
   "cell_type": "code",
   "execution_count": 101,
   "id": "749d2db6",
   "metadata": {},
   "outputs": [
    {
     "name": "stdout",
     "output_type": "stream",
     "text": [
      "[[7 6 0]\n",
      " [0 9 0]\n",
      " [8 8 3]\n",
      " [1 3 8]]\n"
     ]
    }
   ],
   "source": [
    "print(arr3)"
   ]
  },
  {
   "cell_type": "code",
   "execution_count": 102,
   "id": "eb8608fa",
   "metadata": {},
   "outputs": [],
   "source": [
    "# Joining two arrays along axis = 1"
   ]
  },
  {
   "cell_type": "code",
   "execution_count": 103,
   "id": "033b3b1d",
   "metadata": {},
   "outputs": [],
   "source": [
    "arr1 = np.array([[1, 2], [3, 4]])\n",
    "\n",
    "arr2 = np.array([[5, 6], [7, 8]])"
   ]
  },
  {
   "cell_type": "code",
   "execution_count": 108,
   "id": "2967a857",
   "metadata": {},
   "outputs": [],
   "source": [
    "arr3 = np.concatenate((arr1,arr2),axis=1)"
   ]
  },
  {
   "cell_type": "code",
   "execution_count": 109,
   "id": "88aa96f2",
   "metadata": {},
   "outputs": [
    {
     "name": "stdout",
     "output_type": "stream",
     "text": [
      "[[1 2 5 6]\n",
      " [3 4 7 8]]\n"
     ]
    }
   ],
   "source": [
    "print(arr3)"
   ]
  },
  {
   "cell_type": "markdown",
   "id": "eb272576",
   "metadata": {},
   "source": [
    "## Numpy Array Splitting"
   ]
  },
  {
   "cell_type": "code",
   "execution_count": 110,
   "id": "c637e780",
   "metadata": {},
   "outputs": [
    {
     "name": "stdout",
     "output_type": "stream",
     "text": [
      "[array([1, 2, 3]), array([4, 5]), array([6, 7])]\n"
     ]
    }
   ],
   "source": [
    "arr = np.array([1,2,3,4,5,6,7])\n",
    "newarr = np.array_split(arr,3)\n",
    "print(newarr)"
   ]
  },
  {
   "cell_type": "code",
   "execution_count": 111,
   "id": "f7dedeff",
   "metadata": {},
   "outputs": [],
   "source": [
    "# so it basically, a single array into three arrays"
   ]
  },
  {
   "cell_type": "code",
   "execution_count": 112,
   "id": "502bb3e8",
   "metadata": {},
   "outputs": [],
   "source": [
    "arr2 = np.full((5,4),5)"
   ]
  },
  {
   "cell_type": "code",
   "execution_count": 113,
   "id": "5a9ad972",
   "metadata": {},
   "outputs": [
    {
     "name": "stdout",
     "output_type": "stream",
     "text": [
      "[[5 5 5 5]\n",
      " [5 5 5 5]\n",
      " [5 5 5 5]\n",
      " [5 5 5 5]\n",
      " [5 5 5 5]]\n"
     ]
    }
   ],
   "source": [
    "print(arr2)"
   ]
  },
  {
   "cell_type": "code",
   "execution_count": 114,
   "id": "38a79ce0",
   "metadata": {},
   "outputs": [],
   "source": [
    "newarr2 = np.array_split(arr2,4)"
   ]
  },
  {
   "cell_type": "code",
   "execution_count": 115,
   "id": "60d89b66",
   "metadata": {},
   "outputs": [
    {
     "name": "stdout",
     "output_type": "stream",
     "text": [
      "[array([[5, 5, 5, 5],\n",
      "       [5, 5, 5, 5]]), array([[5, 5, 5, 5]]), array([[5, 5, 5, 5]]), array([[5, 5, 5, 5]])]\n"
     ]
    }
   ],
   "source": [
    "print(newarr2)"
   ]
  },
  {
   "cell_type": "code",
   "execution_count": 118,
   "id": "0ee15783",
   "metadata": {},
   "outputs": [
    {
     "data": {
      "text/plain": [
       "array([[5, 5, 5, 5],\n",
       "       [5, 5, 5, 5]])"
      ]
     },
     "execution_count": 118,
     "metadata": {},
     "output_type": "execute_result"
    }
   ],
   "source": [
    "newarr2[0]"
   ]
  },
  {
   "cell_type": "code",
   "execution_count": 119,
   "id": "0af7d7be",
   "metadata": {},
   "outputs": [],
   "source": [
    "arr3 = np.array([[1,2,3,4,5],[6,7,8,9,0]])"
   ]
  },
  {
   "cell_type": "code",
   "execution_count": 120,
   "id": "1fc1cd77",
   "metadata": {},
   "outputs": [
    {
     "name": "stdout",
     "output_type": "stream",
     "text": [
      "[[1 2 3 4 5]\n",
      " [6 7 8 9 0]]\n"
     ]
    }
   ],
   "source": [
    "print(arr3)"
   ]
  },
  {
   "cell_type": "code",
   "execution_count": 121,
   "id": "684f2887",
   "metadata": {},
   "outputs": [],
   "source": [
    "newarr3 = np.array_split(arr3,3)"
   ]
  },
  {
   "cell_type": "code",
   "execution_count": 122,
   "id": "5f470c24",
   "metadata": {},
   "outputs": [
    {
     "name": "stdout",
     "output_type": "stream",
     "text": [
      "[array([[1, 2, 3, 4, 5]]), array([[6, 7, 8, 9, 0]]), array([], shape=(0, 5), dtype=int32)]\n"
     ]
    }
   ],
   "source": [
    "print(newarr3)"
   ]
  },
  {
   "cell_type": "code",
   "execution_count": 123,
   "id": "e22d99dd",
   "metadata": {},
   "outputs": [],
   "source": [
    "newarr3 = np.array_split(arr3,3, axis=1)"
   ]
  },
  {
   "cell_type": "code",
   "execution_count": 124,
   "id": "00db9372",
   "metadata": {},
   "outputs": [
    {
     "name": "stdout",
     "output_type": "stream",
     "text": [
      "[array([[1, 2],\n",
      "       [6, 7]]), array([[3, 4],\n",
      "       [8, 9]]), array([[5],\n",
      "       [0]])]\n"
     ]
    }
   ],
   "source": [
    "print(newarr3)"
   ]
  },
  {
   "cell_type": "code",
   "execution_count": 125,
   "id": "55d7bbe1",
   "metadata": {},
   "outputs": [
    {
     "name": "stdout",
     "output_type": "stream",
     "text": [
      "[[1 2]\n",
      " [6 7]]\n"
     ]
    }
   ],
   "source": [
    "print(newarr3[0])"
   ]
  },
  {
   "cell_type": "code",
   "execution_count": 126,
   "id": "10445515",
   "metadata": {},
   "outputs": [],
   "source": [
    "flatarr = newarr3[0].reshape(-1)"
   ]
  },
  {
   "cell_type": "code",
   "execution_count": 127,
   "id": "50823f93",
   "metadata": {},
   "outputs": [
    {
     "name": "stdout",
     "output_type": "stream",
     "text": [
      "[1 2 6 7]\n"
     ]
    }
   ],
   "source": [
    "print(flatarr)"
   ]
  },
  {
   "cell_type": "markdown",
   "id": "e3b95c52",
   "metadata": {},
   "source": [
    "## Numpy Searching Arrays"
   ]
  },
  {
   "cell_type": "code",
   "execution_count": 128,
   "id": "4c14022f",
   "metadata": {},
   "outputs": [],
   "source": [
    "arr = np.array([1,2,3,4,5])"
   ]
  },
  {
   "cell_type": "code",
   "execution_count": 129,
   "id": "b49b8157",
   "metadata": {},
   "outputs": [],
   "source": [
    "x = np.where(arr==5)"
   ]
  },
  {
   "cell_type": "code",
   "execution_count": 130,
   "id": "3a04ffb2",
   "metadata": {},
   "outputs": [
    {
     "name": "stdout",
     "output_type": "stream",
     "text": [
      "(array([4], dtype=int64),)\n"
     ]
    }
   ],
   "source": [
    "print(x)"
   ]
  },
  {
   "cell_type": "code",
   "execution_count": 131,
   "id": "cc4055ca",
   "metadata": {},
   "outputs": [
    {
     "name": "stdout",
     "output_type": "stream",
     "text": [
      "(array([1, 3, 5, 7], dtype=int64),)\n"
     ]
    }
   ],
   "source": [
    "arr = np.array([1, 2, 3, 4, 5, 6, 7, 8])\n",
    "\n",
    "x = np.where(arr%2 == 0)\n",
    "\n",
    "print(x)"
   ]
  },
  {
   "cell_type": "code",
   "execution_count": 132,
   "id": "d09d7b71",
   "metadata": {},
   "outputs": [
    {
     "name": "stdout",
     "output_type": "stream",
     "text": [
      "(array([0, 2, 4, 6], dtype=int64),)\n"
     ]
    }
   ],
   "source": [
    "y = np.where(arr%2!=0)\n",
    "print(y)"
   ]
  },
  {
   "cell_type": "code",
   "execution_count": 133,
   "id": "241bd292",
   "metadata": {},
   "outputs": [
    {
     "name": "stdout",
     "output_type": "stream",
     "text": [
      "1\n"
     ]
    }
   ],
   "source": [
    "arr = np.array([6, 7, 8, 9])\n",
    "\n",
    "x = np.searchsorted(arr, 7)\n",
    "\n",
    "print(x)"
   ]
  },
  {
   "cell_type": "code",
   "execution_count": 134,
   "id": "b35ad6a5",
   "metadata": {},
   "outputs": [
    {
     "name": "stdout",
     "output_type": "stream",
     "text": [
      "[1 2 3]\n"
     ]
    }
   ],
   "source": [
    "arr = np.array([1, 3, 5, 7])\n",
    "\n",
    "x = np.searchsorted(arr, [2, 4, 6])\n",
    "\n",
    "print(x)"
   ]
  },
  {
   "cell_type": "code",
   "execution_count": 135,
   "id": "f48eb84c",
   "metadata": {},
   "outputs": [],
   "source": [
    "# This shows where 2,4,6 should be inserted inside the array"
   ]
  },
  {
   "cell_type": "code",
   "execution_count": 136,
   "id": "4c321307",
   "metadata": {},
   "outputs": [
    {
     "name": "stdout",
     "output_type": "stream",
     "text": [
      "[0 1 2 3]\n"
     ]
    }
   ],
   "source": [
    "arr = np.array([3, 2, 0, 1])\n",
    "print(np.sort(arr))"
   ]
  },
  {
   "cell_type": "code",
   "execution_count": 137,
   "id": "f4640afa",
   "metadata": {},
   "outputs": [
    {
     "name": "stdout",
     "output_type": "stream",
     "text": [
      "[[2 3 4]\n",
      " [0 1 5]]\n"
     ]
    }
   ],
   "source": [
    "arr = np.array([[3, 2, 4], [5, 0, 1]])\n",
    "\n",
    "print(np.sort(arr))"
   ]
  },
  {
   "cell_type": "code",
   "execution_count": null,
   "id": "93525632",
   "metadata": {},
   "outputs": [],
   "source": []
  }
 ],
 "metadata": {
  "kernelspec": {
   "display_name": "Python 3 (ipykernel)",
   "language": "python",
   "name": "python3"
  },
  "language_info": {
   "codemirror_mode": {
    "name": "ipython",
    "version": 3
   },
   "file_extension": ".py",
   "mimetype": "text/x-python",
   "name": "python",
   "nbconvert_exporter": "python",
   "pygments_lexer": "ipython3",
   "version": "3.9.13"
  }
 },
 "nbformat": 4,
 "nbformat_minor": 5
}
